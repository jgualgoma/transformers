{
  "nbformat": 4,
  "nbformat_minor": 0,
  "metadata": {
    "colab": {
      "provenance": [],
      "gpuType": "T4"
    },
    "kernelspec": {
      "name": "python3",
      "display_name": "Python 3"
    },
    "language_info": {
      "name": "python"
    },
    "accelerator": "GPU"
  },
  "cells": [
    {
      "cell_type": "markdown",
      "source": [
        "# Install Dependencies\n",
        "\n",
        "Works best on google colab. If running locally, make sure it has CUDA support and and NVIDIA graphics card with at least 15 GB VRAM"
      ],
      "metadata": {
        "id": "w7S0eLmhZSJZ"
      }
    },
    {
      "cell_type": "code",
      "execution_count": 1,
      "metadata": {
        "id": "kgP6GW8BIHVt"
      },
      "outputs": [],
      "source": [
        "%%capture\n",
        "# Installs Unsloth, Xformers (Flash Attention) and all other packages!\n",
        "!pip install \"unsloth[colab-new] @ git+https://github.com/unslothai/unsloth.git\"\n",
        "!pip install --no-deps xformers \"trl<0.9.0\" peft accelerate bitsandbytes"
      ]
    },
    {
      "cell_type": "markdown",
      "source": [
        "# Unsloth 4 bit quantized Llama 3 Model\n",
        "\n",
        "If using a different model, provide huggingface token and uncomment line 14, otherwise the model being used is the unsloth quantized model\n",
        "\n",
        "For more info and troubleshooting go to the unsloth github repo [https://github.com/unslothai/unsloth](https://github.com/unslothai/unsloth)"
      ],
      "metadata": {
        "id": "_kQ5uKAQZlHq"
      }
    },
    {
      "cell_type": "code",
      "source": [
        "from unsloth import FastLanguageModel\n",
        "import torch\n",
        "max_seq_length = 2048 # Choose any! We auto support RoPE Scaling internally!\n",
        "# Note that the max is 8192 for llama 3 at any size model. Look out in the future for 16k and 32k context models\n",
        "dtype = None # None for auto detection. Float16 for Tesla T4, V100, Bfloat16 for Ampere+\n",
        "load_in_4bit = True # Use 4bit quantization to reduce memory usage. Can be False.\n",
        "\n",
        "\n",
        "\n",
        "model, tokenizer = FastLanguageModel.from_pretrained(\n",
        "    model_name = \"unsloth/llama-3-8b-bnb-4bit\",\n",
        "    max_seq_length = max_seq_length,\n",
        "    dtype = dtype,\n",
        "    load_in_4bit = load_in_4bit,\n",
        "    # token = \"hf_...\", # use one if using gated models like meta-llama/Llama-2-7b-hf\n",
        ")"
      ],
      "metadata": {
        "colab": {
          "base_uri": "https://localhost:8080/"
        },
        "id": "aGU7dXQYIifp",
        "outputId": "7e1aa8f5-15b9-449c-e80a-496f2913e439"
      },
      "execution_count": 2,
      "outputs": [
        {
          "output_type": "stream",
          "name": "stdout",
          "text": [
            "🦥 Unsloth: Will patch your computer to enable 2x faster free finetuning.\n",
            "==((====))==  Unsloth: Fast Llama patching release 2024.6\n",
            "   \\\\   /|    GPU: Tesla T4. Max memory: 14.748 GB. Platform = Linux.\n",
            "O^O/ \\_/ \\    Pytorch: 2.3.0+cu121. CUDA = 7.5. CUDA Toolkit = 12.1.\n",
            "\\        /    Bfloat16 = FALSE. Xformers = 0.0.26.post1. FA = False.\n",
            " \"-____-\"     Free Apache license: http://github.com/unslothai/unsloth\n"
          ]
        },
        {
          "output_type": "stream",
          "name": "stderr",
          "text": [
            "Special tokens have been added in the vocabulary, make sure the associated word embeddings are fine-tuned or trained.\n"
          ]
        }
      ]
    },
    {
      "cell_type": "code",
      "source": [],
      "metadata": {
        "id": "9mKVrBGUNGG8"
      },
      "execution_count": 2,
      "outputs": []
    },
    {
      "cell_type": "code",
      "source": [
        "model = FastLanguageModel.get_peft_model(\n",
        "    model,\n",
        "    r = 16, # Choose any number > 0 ! Suggested 8, 16, 32, 64, 128\n",
        "    target_modules = [\"q_proj\", \"k_proj\", \"v_proj\", \"o_proj\",\n",
        "                      \"gate_proj\", \"up_proj\", \"down_proj\",],\n",
        "    lora_alpha = 16,\n",
        "    lora_dropout = 0, # Supports any, but = 0 is optimized\n",
        "    bias = \"none\",    # Supports any, but = \"none\" is optimized\n",
        "    # [NEW] \"unsloth\" uses 30% less VRAM, fits 2x larger batch sizes!\n",
        "    use_gradient_checkpointing = \"unsloth\", # True or \"unsloth\" for very long context\n",
        "    random_state = 3407,\n",
        "    use_rslora = False,  # We support rank stabilized LoRA\n",
        "    loftq_config = None, # And LoftQ\n",
        ")"
      ],
      "metadata": {
        "id": "y8Hk4Xi1Ii2I",
        "colab": {
          "base_uri": "https://localhost:8080/"
        },
        "outputId": "d2414d73-0fdb-4b36-d58b-7cbdf6807a25"
      },
      "execution_count": 3,
      "outputs": [
        {
          "output_type": "stream",
          "name": "stderr",
          "text": [
            "Unsloth 2024.6 patched 32 layers with 32 QKV layers, 32 O layers and 32 MLP layers.\n"
          ]
        }
      ]
    },
    {
      "cell_type": "code",
      "source": [],
      "metadata": {
        "id": "9g3kny2bOK5X"
      },
      "execution_count": 3,
      "outputs": []
    },
    {
      "cell_type": "markdown",
      "source": [
        "# Dataset\n",
        "\n",
        "Data is loaded from a JSON file in the following form:\n",
        "\n",
        "      [\n",
        "          {\n",
        "            instruction: \"Do something with the input\",\n",
        "            input: \"Some Input data\",\n",
        "            output: \"some output\"\n",
        "          },\n",
        "          {\n",
        "            instruction: \"Do something else with the input\",\n",
        "            input: \"Some other data\",\n",
        "            output: \"some output\"\n",
        "          },\n",
        "          ......\n",
        "      ]"
      ],
      "metadata": {
        "id": "alZIuhj8XtAl"
      }
    },
    {
      "cell_type": "code",
      "source": [
        "alpaca_prompt = \"\"\"Below is an instruction that describes a task, paired with an input that provides further context. Write a response that appropriately completes the request.\n",
        "\n",
        "### Instruction:\n",
        "{}\n",
        "\n",
        "### Input:\n",
        "{}\n",
        "\n",
        "### Response:\n",
        "{}\"\"\"\n",
        "\n",
        "EOS_TOKEN = tokenizer.eos_token # Must add EOS_TOKEN\n",
        "def formatting_prompts_func(examples):\n",
        "    instructions = examples[\"instruction\"]\n",
        "    inputs       = examples[\"input\"]\n",
        "    outputs      = examples[\"output\"]\n",
        "    texts = []\n",
        "    for instruction, input, output in zip(instructions, inputs, outputs):\n",
        "        # Must add EOS_TOKEN, otherwise your generation will go on forever!\n",
        "        text = alpaca_prompt.format(instruction, input, output) + EOS_TOKEN\n",
        "        texts.append(text)\n",
        "    return { \"text\" : texts, }\n",
        "pass\n",
        "\n",
        "from datasets import load_dataset\n",
        "dataset = load_dataset(\"json\", data_files= \"./sample_data/metro_input.json\", split = \"train\")\n",
        "dataset = dataset.map(formatting_prompts_func, batched = True,)"
      ],
      "metadata": {
        "id": "HnbcY1VwIjTg"
      },
      "execution_count": 4,
      "outputs": []
    },
    {
      "cell_type": "markdown",
      "source": [
        "# Training Parameters\n",
        "\n",
        "use max_steps if you want to only train on randomized subset of training data (shorter training)\n",
        "\n",
        "Use num_train_epochs=1 to go over the entire training data once, 2 for twice etc... (takes longer)\n",
        "\n",
        "If both parameters are used, max_steps overrides num_train_epochs"
      ],
      "metadata": {
        "id": "JCsyytB0kRjZ"
      }
    },
    {
      "cell_type": "code",
      "source": [
        "from trl import SFTTrainer\n",
        "from transformers import TrainingArguments\n",
        "from unsloth import is_bfloat16_supported\n",
        "\n",
        "trainer = SFTTrainer(\n",
        "    model = model,\n",
        "    tokenizer = tokenizer,\n",
        "    train_dataset = dataset,\n",
        "    dataset_text_field = \"text\",\n",
        "    max_seq_length = max_seq_length,\n",
        "    dataset_num_proc = 2,\n",
        "    packing = False, # Can make training 5x faster for short sequences.\n",
        "    args = TrainingArguments(\n",
        "        per_device_train_batch_size = 2,\n",
        "        gradient_accumulation_steps = 4,\n",
        "        warmup_steps = 5,\n",
        "         #max_steps = 100,\n",
        "        num_train_epochs = 1,\n",
        "        learning_rate = 2e-4,\n",
        "        fp16 = not is_bfloat16_supported(),\n",
        "        bf16 = is_bfloat16_supported(),\n",
        "        logging_steps = 1,\n",
        "        optim = \"adamw_8bit\",\n",
        "        weight_decay = 0.01,\n",
        "        lr_scheduler_type = \"linear\",\n",
        "        seed = 3407,\n",
        "        output_dir = \"outputs\",\n",
        "    ),\n",
        ")"
      ],
      "metadata": {
        "id": "B-HBnM4NKPJG",
        "colab": {
          "base_uri": "https://localhost:8080/"
        },
        "outputId": "74edb96a-af91-4ef0-d086-43168e767472"
      },
      "execution_count": 5,
      "outputs": [
        {
          "output_type": "stream",
          "name": "stderr",
          "text": [
            "max_steps is given, it will override any value given in num_train_epochs\n"
          ]
        }
      ]
    },
    {
      "cell_type": "code",
      "source": [
        "#@title Show current memory stats\n",
        "gpu_stats = torch.cuda.get_device_properties(0)\n",
        "start_gpu_memory = round(torch.cuda.max_memory_reserved() / 1024 / 1024 / 1024, 3)\n",
        "max_memory = round(gpu_stats.total_memory / 1024 / 1024 / 1024, 3)\n",
        "print(f\"GPU = {gpu_stats.name}. Max memory = {max_memory} GB.\")\n",
        "print(f\"{start_gpu_memory} GB of memory reserved.\")"
      ],
      "metadata": {
        "id": "p3iED7qUKPg8",
        "colab": {
          "base_uri": "https://localhost:8080/"
        },
        "outputId": "5ac93640-c529-4d96-9403-f301757868d3"
      },
      "execution_count": 6,
      "outputs": [
        {
          "output_type": "stream",
          "name": "stdout",
          "text": [
            "GPU = Tesla T4. Max memory = 14.748 GB.\n",
            "5.594 GB of memory reserved.\n"
          ]
        }
      ]
    },
    {
      "cell_type": "markdown",
      "source": [
        "# Begin Training\n",
        "Look for a reduction in loss as training steps go on to determine if training is going well.\n",
        "\n",
        "When graphed the loss should look like this:\n",
        "![graph.png](data:image/png;base64,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)\n"
      ],
      "metadata": {
        "id": "P-G04IQ8WTR0"
      }
    },
    {
      "cell_type": "code",
      "source": [
        "trainer_stats = trainer.train()"
      ],
      "metadata": {
        "id": "ckOvuqqKKSKF",
        "colab": {
          "base_uri": "https://localhost:8080/",
          "height": 1000
        },
        "outputId": "a51f092b-d428-4611-9d26-6e16d21567f4"
      },
      "execution_count": 7,
      "outputs": [
        {
          "output_type": "stream",
          "name": "stderr",
          "text": [
            "==((====))==  Unsloth - 2x faster free finetuning | Num GPUs = 1\n",
            "   \\\\   /|    Num examples = 14,190 | Num Epochs = 1\n",
            "O^O/ \\_/ \\    Batch size per device = 2 | Gradient Accumulation steps = 4\n",
            "\\        /    Total batch size = 8 | Total steps = 100\n",
            " \"-____-\"     Number of trainable parameters = 41,943,040\n"
          ]
        },
        {
          "output_type": "display_data",
          "data": {
            "text/plain": [
              "<IPython.core.display.HTML object>"
            ],
            "text/html": [
              "\n",
              "    <div>\n",
              "      \n",
              "      <progress value='100' max='100' style='width:300px; height:20px; vertical-align: middle;'></progress>\n",
              "      [100/100 06:59, Epoch 0/1]\n",
              "    </div>\n",
              "    <table border=\"1\" class=\"dataframe\">\n",
              "  <thead>\n",
              " <tr style=\"text-align: left;\">\n",
              "      <th>Step</th>\n",
              "      <th>Training Loss</th>\n",
              "    </tr>\n",
              "  </thead>\n",
              "  <tbody>\n",
              "    <tr>\n",
              "      <td>1</td>\n",
              "      <td>3.188100</td>\n",
              "    </tr>\n",
              "    <tr>\n",
              "      <td>2</td>\n",
              "      <td>3.231200</td>\n",
              "    </tr>\n",
              "    <tr>\n",
              "      <td>3</td>\n",
              "      <td>3.030300</td>\n",
              "    </tr>\n",
              "    <tr>\n",
              "      <td>4</td>\n",
              "      <td>2.698600</td>\n",
              "    </tr>\n",
              "    <tr>\n",
              "      <td>5</td>\n",
              "      <td>2.340500</td>\n",
              "    </tr>\n",
              "    <tr>\n",
              "      <td>6</td>\n",
              "      <td>1.935900</td>\n",
              "    </tr>\n",
              "    <tr>\n",
              "      <td>7</td>\n",
              "      <td>1.509500</td>\n",
              "    </tr>\n",
              "    <tr>\n",
              "      <td>8</td>\n",
              "      <td>1.203600</td>\n",
              "    </tr>\n",
              "    <tr>\n",
              "      <td>9</td>\n",
              "      <td>0.917200</td>\n",
              "    </tr>\n",
              "    <tr>\n",
              "      <td>10</td>\n",
              "      <td>0.790400</td>\n",
              "    </tr>\n",
              "    <tr>\n",
              "      <td>11</td>\n",
              "      <td>0.694900</td>\n",
              "    </tr>\n",
              "    <tr>\n",
              "      <td>12</td>\n",
              "      <td>0.712700</td>\n",
              "    </tr>\n",
              "    <tr>\n",
              "      <td>13</td>\n",
              "      <td>0.592400</td>\n",
              "    </tr>\n",
              "    <tr>\n",
              "      <td>14</td>\n",
              "      <td>0.732500</td>\n",
              "    </tr>\n",
              "    <tr>\n",
              "      <td>15</td>\n",
              "      <td>0.526000</td>\n",
              "    </tr>\n",
              "    <tr>\n",
              "      <td>16</td>\n",
              "      <td>0.574400</td>\n",
              "    </tr>\n",
              "    <tr>\n",
              "      <td>17</td>\n",
              "      <td>0.670100</td>\n",
              "    </tr>\n",
              "    <tr>\n",
              "      <td>18</td>\n",
              "      <td>0.603300</td>\n",
              "    </tr>\n",
              "    <tr>\n",
              "      <td>19</td>\n",
              "      <td>0.578500</td>\n",
              "    </tr>\n",
              "    <tr>\n",
              "      <td>20</td>\n",
              "      <td>0.522700</td>\n",
              "    </tr>\n",
              "    <tr>\n",
              "      <td>21</td>\n",
              "      <td>0.504300</td>\n",
              "    </tr>\n",
              "    <tr>\n",
              "      <td>22</td>\n",
              "      <td>0.519000</td>\n",
              "    </tr>\n",
              "    <tr>\n",
              "      <td>23</td>\n",
              "      <td>0.521800</td>\n",
              "    </tr>\n",
              "    <tr>\n",
              "      <td>24</td>\n",
              "      <td>0.498300</td>\n",
              "    </tr>\n",
              "    <tr>\n",
              "      <td>25</td>\n",
              "      <td>0.579800</td>\n",
              "    </tr>\n",
              "    <tr>\n",
              "      <td>26</td>\n",
              "      <td>0.584900</td>\n",
              "    </tr>\n",
              "    <tr>\n",
              "      <td>27</td>\n",
              "      <td>0.490300</td>\n",
              "    </tr>\n",
              "    <tr>\n",
              "      <td>28</td>\n",
              "      <td>0.506000</td>\n",
              "    </tr>\n",
              "    <tr>\n",
              "      <td>29</td>\n",
              "      <td>0.527600</td>\n",
              "    </tr>\n",
              "    <tr>\n",
              "      <td>30</td>\n",
              "      <td>0.495400</td>\n",
              "    </tr>\n",
              "    <tr>\n",
              "      <td>31</td>\n",
              "      <td>0.476400</td>\n",
              "    </tr>\n",
              "    <tr>\n",
              "      <td>32</td>\n",
              "      <td>0.600300</td>\n",
              "    </tr>\n",
              "    <tr>\n",
              "      <td>33</td>\n",
              "      <td>0.476400</td>\n",
              "    </tr>\n",
              "    <tr>\n",
              "      <td>34</td>\n",
              "      <td>0.408300</td>\n",
              "    </tr>\n",
              "    <tr>\n",
              "      <td>35</td>\n",
              "      <td>0.446800</td>\n",
              "    </tr>\n",
              "    <tr>\n",
              "      <td>36</td>\n",
              "      <td>0.555700</td>\n",
              "    </tr>\n",
              "    <tr>\n",
              "      <td>37</td>\n",
              "      <td>0.458200</td>\n",
              "    </tr>\n",
              "    <tr>\n",
              "      <td>38</td>\n",
              "      <td>0.476800</td>\n",
              "    </tr>\n",
              "    <tr>\n",
              "      <td>39</td>\n",
              "      <td>0.372500</td>\n",
              "    </tr>\n",
              "    <tr>\n",
              "      <td>40</td>\n",
              "      <td>0.485800</td>\n",
              "    </tr>\n",
              "    <tr>\n",
              "      <td>41</td>\n",
              "      <td>0.489500</td>\n",
              "    </tr>\n",
              "    <tr>\n",
              "      <td>42</td>\n",
              "      <td>0.424400</td>\n",
              "    </tr>\n",
              "    <tr>\n",
              "      <td>43</td>\n",
              "      <td>0.424400</td>\n",
              "    </tr>\n",
              "    <tr>\n",
              "      <td>44</td>\n",
              "      <td>0.465900</td>\n",
              "    </tr>\n",
              "    <tr>\n",
              "      <td>45</td>\n",
              "      <td>0.369400</td>\n",
              "    </tr>\n",
              "    <tr>\n",
              "      <td>46</td>\n",
              "      <td>0.400500</td>\n",
              "    </tr>\n",
              "    <tr>\n",
              "      <td>47</td>\n",
              "      <td>0.510900</td>\n",
              "    </tr>\n",
              "    <tr>\n",
              "      <td>48</td>\n",
              "      <td>0.518700</td>\n",
              "    </tr>\n",
              "    <tr>\n",
              "      <td>49</td>\n",
              "      <td>0.482800</td>\n",
              "    </tr>\n",
              "    <tr>\n",
              "      <td>50</td>\n",
              "      <td>0.483200</td>\n",
              "    </tr>\n",
              "    <tr>\n",
              "      <td>51</td>\n",
              "      <td>0.474400</td>\n",
              "    </tr>\n",
              "    <tr>\n",
              "      <td>52</td>\n",
              "      <td>0.521800</td>\n",
              "    </tr>\n",
              "    <tr>\n",
              "      <td>53</td>\n",
              "      <td>0.315100</td>\n",
              "    </tr>\n",
              "    <tr>\n",
              "      <td>54</td>\n",
              "      <td>0.384900</td>\n",
              "    </tr>\n",
              "    <tr>\n",
              "      <td>55</td>\n",
              "      <td>0.382800</td>\n",
              "    </tr>\n",
              "    <tr>\n",
              "      <td>56</td>\n",
              "      <td>0.369800</td>\n",
              "    </tr>\n",
              "    <tr>\n",
              "      <td>57</td>\n",
              "      <td>0.488200</td>\n",
              "    </tr>\n",
              "    <tr>\n",
              "      <td>58</td>\n",
              "      <td>0.393300</td>\n",
              "    </tr>\n",
              "    <tr>\n",
              "      <td>59</td>\n",
              "      <td>0.470100</td>\n",
              "    </tr>\n",
              "    <tr>\n",
              "      <td>60</td>\n",
              "      <td>0.370400</td>\n",
              "    </tr>\n",
              "    <tr>\n",
              "      <td>61</td>\n",
              "      <td>0.436100</td>\n",
              "    </tr>\n",
              "    <tr>\n",
              "      <td>62</td>\n",
              "      <td>0.380800</td>\n",
              "    </tr>\n",
              "    <tr>\n",
              "      <td>63</td>\n",
              "      <td>0.438900</td>\n",
              "    </tr>\n",
              "    <tr>\n",
              "      <td>64</td>\n",
              "      <td>0.502100</td>\n",
              "    </tr>\n",
              "    <tr>\n",
              "      <td>65</td>\n",
              "      <td>0.495700</td>\n",
              "    </tr>\n",
              "    <tr>\n",
              "      <td>66</td>\n",
              "      <td>0.442100</td>\n",
              "    </tr>\n",
              "    <tr>\n",
              "      <td>67</td>\n",
              "      <td>0.424800</td>\n",
              "    </tr>\n",
              "    <tr>\n",
              "      <td>68</td>\n",
              "      <td>0.438500</td>\n",
              "    </tr>\n",
              "    <tr>\n",
              "      <td>69</td>\n",
              "      <td>0.413300</td>\n",
              "    </tr>\n",
              "    <tr>\n",
              "      <td>70</td>\n",
              "      <td>0.543700</td>\n",
              "    </tr>\n",
              "    <tr>\n",
              "      <td>71</td>\n",
              "      <td>0.511300</td>\n",
              "    </tr>\n",
              "    <tr>\n",
              "      <td>72</td>\n",
              "      <td>0.441000</td>\n",
              "    </tr>\n",
              "    <tr>\n",
              "      <td>73</td>\n",
              "      <td>0.408200</td>\n",
              "    </tr>\n",
              "    <tr>\n",
              "      <td>74</td>\n",
              "      <td>0.515900</td>\n",
              "    </tr>\n",
              "    <tr>\n",
              "      <td>75</td>\n",
              "      <td>0.422600</td>\n",
              "    </tr>\n",
              "    <tr>\n",
              "      <td>76</td>\n",
              "      <td>0.481600</td>\n",
              "    </tr>\n",
              "    <tr>\n",
              "      <td>77</td>\n",
              "      <td>0.520300</td>\n",
              "    </tr>\n",
              "    <tr>\n",
              "      <td>78</td>\n",
              "      <td>0.414700</td>\n",
              "    </tr>\n",
              "    <tr>\n",
              "      <td>79</td>\n",
              "      <td>0.516200</td>\n",
              "    </tr>\n",
              "    <tr>\n",
              "      <td>80</td>\n",
              "      <td>0.396200</td>\n",
              "    </tr>\n",
              "    <tr>\n",
              "      <td>81</td>\n",
              "      <td>0.460400</td>\n",
              "    </tr>\n",
              "    <tr>\n",
              "      <td>82</td>\n",
              "      <td>0.475400</td>\n",
              "    </tr>\n",
              "    <tr>\n",
              "      <td>83</td>\n",
              "      <td>0.366400</td>\n",
              "    </tr>\n",
              "    <tr>\n",
              "      <td>84</td>\n",
              "      <td>0.442900</td>\n",
              "    </tr>\n",
              "    <tr>\n",
              "      <td>85</td>\n",
              "      <td>0.475500</td>\n",
              "    </tr>\n",
              "    <tr>\n",
              "      <td>86</td>\n",
              "      <td>0.515600</td>\n",
              "    </tr>\n",
              "    <tr>\n",
              "      <td>87</td>\n",
              "      <td>0.478800</td>\n",
              "    </tr>\n",
              "    <tr>\n",
              "      <td>88</td>\n",
              "      <td>0.502200</td>\n",
              "    </tr>\n",
              "    <tr>\n",
              "      <td>89</td>\n",
              "      <td>0.469100</td>\n",
              "    </tr>\n",
              "    <tr>\n",
              "      <td>90</td>\n",
              "      <td>0.456100</td>\n",
              "    </tr>\n",
              "    <tr>\n",
              "      <td>91</td>\n",
              "      <td>0.447900</td>\n",
              "    </tr>\n",
              "    <tr>\n",
              "      <td>92</td>\n",
              "      <td>0.346600</td>\n",
              "    </tr>\n",
              "    <tr>\n",
              "      <td>93</td>\n",
              "      <td>0.463400</td>\n",
              "    </tr>\n",
              "    <tr>\n",
              "      <td>94</td>\n",
              "      <td>0.476100</td>\n",
              "    </tr>\n",
              "    <tr>\n",
              "      <td>95</td>\n",
              "      <td>0.414800</td>\n",
              "    </tr>\n",
              "    <tr>\n",
              "      <td>96</td>\n",
              "      <td>0.434400</td>\n",
              "    </tr>\n",
              "    <tr>\n",
              "      <td>97</td>\n",
              "      <td>0.442800</td>\n",
              "    </tr>\n",
              "    <tr>\n",
              "      <td>98</td>\n",
              "      <td>0.424000</td>\n",
              "    </tr>\n",
              "    <tr>\n",
              "      <td>99</td>\n",
              "      <td>0.502000</td>\n",
              "    </tr>\n",
              "    <tr>\n",
              "      <td>100</td>\n",
              "      <td>0.411200</td>\n",
              "    </tr>\n",
              "  </tbody>\n",
              "</table><p>"
            ]
          },
          "metadata": {}
        }
      ]
    },
    {
      "cell_type": "code",
      "source": [
        "\n",
        "FastLanguageModel.for_inference(model) # Enable native 2x faster inference\n",
        "inputs = tokenizer(\n",
        "[\n",
        "    alpaca_prompt.format(\n",
        "          \"Given a grocery store product, return the section of the store it would be found in.\", # instruction\n",
        "        \"Everything Bagel\", #input\n",
        "        \"\", # output - leave this blank for generation!\n",
        "    )\n",
        "], return_tensors = \"pt\").to(\"cuda\")\n",
        "\n",
        "outputs = model.generate(**inputs, max_new_tokens = 64, use_cache = True, temperature=0.1)\n",
        "tokenizer.batch_decode(outputs)"
      ],
      "metadata": {
        "id": "pqkUjrmTMOB8",
        "colab": {
          "base_uri": "https://localhost:8080/"
        },
        "outputId": "ca9bdaa9-528c-416f-c4a8-0aaca08cf15d"
      },
      "execution_count": 52,
      "outputs": [
        {
          "output_type": "stream",
          "name": "stderr",
          "text": [
            "Setting `pad_token_id` to `eos_token_id`:128001 for open-end generation.\n"
          ]
        },
        {
          "output_type": "execute_result",
          "data": {
            "text/plain": [
              "['<|begin_of_text|>Below is an instruction that describes a task, paired with an input that provides further context. Write a response that appropriately completes the request.\\n\\n### Instruction:\\nGiven a grocery store product, return the section of the store it would be found in.\\n\\n### Input:\\nEverything Bagel\\n\\n### Response:\\nBread & Bakery Products<|end_of_text|>']"
            ]
          },
          "metadata": {},
          "execution_count": 52
        }
      ]
    },
    {
      "cell_type": "code",
      "source": [
        "tokenizer.model_max_length\n"
      ],
      "metadata": {
        "colab": {
          "base_uri": "https://localhost:8080/"
        },
        "id": "Zm347yPbIbjf",
        "outputId": "8b0eacd0-5d7f-440d-9f26-39180aebde66"
      },
      "execution_count": 9,
      "outputs": [
        {
          "output_type": "execute_result",
          "data": {
            "text/plain": [
              "8192"
            ]
          },
          "metadata": {},
          "execution_count": 9
        }
      ]
    },
    {
      "cell_type": "markdown",
      "source": [
        "# Saving and Inference\n",
        "\n",
        "use the following cells to save the trained lora adaptors and if running on colab save the outputs"
      ],
      "metadata": {
        "id": "MEExx_DTaSs0"
      }
    },
    {
      "cell_type": "code",
      "source": [
        "model.save_pretrained(\"lora_model\") # Local saving\n",
        "tokenizer.save_pretrained(\"lora_model\")"
      ],
      "metadata": {
        "colab": {
          "base_uri": "https://localhost:8080/"
        },
        "id": "uM1z2KySaeVv",
        "outputId": "bac2337e-90b8-4429-b432-24543a402e3d"
      },
      "execution_count": 10,
      "outputs": [
        {
          "output_type": "execute_result",
          "data": {
            "text/plain": [
              "('lora_model/tokenizer_config.json',\n",
              " 'lora_model/special_tokens_map.json',\n",
              " 'lora_model/tokenizer.json')"
            ]
          },
          "metadata": {},
          "execution_count": 10
        }
      ]
    },
    {
      "cell_type": "markdown",
      "source": [
        "Note: The following commented out code will fail if you do not have enough VRAM on your device. Run the following in another Virtual Machie instance. Don't forget to download the lora model weights. Zip and take entire lora_model directory"
      ],
      "metadata": {
        "id": "LCORz3qUmnNL"
      }
    },
    {
      "cell_type": "code",
      "source": [
        "# from unsloth import FastLanguageModel\n",
        "# model, tokenizer = FastLanguageModel.from_pretrained(\n",
        "#         model_name = \"lora_model\", # YOUR MODEL YOU USED FOR TRAINING\n",
        "#         max_seq_length = max_seq_length,\n",
        "#         dtype = dtype,\n",
        "#         load_in_4bit = load_in_4bit,\n",
        "#     )\n",
        "# FastLanguageModel.for_inference(model) # Enable native 2x faster inference\n",
        "\n",
        "# # alpaca_prompt = You MUST copy from above!\n",
        "\n",
        "# inputs = tokenizer(\n",
        "# [\n",
        "#     alpaca_prompt.format(\n",
        "#        \"Given a grocery store product, return the section of the store it would be found in.\", # instruction\n",
        "#         \"Vitamin D3 30 tablest by Jamieson\", #input\n",
        "#         \"\", # output - leave this blank for generation!\n",
        "#     )\n",
        "# ], return_tensors = \"pt\").to(\"cuda\")\n",
        "\n",
        "outputs = model.generate(**inputs, max_new_tokens = 64, use_cache = True)\n",
        "tokenizer.batch_decode(outputs)"
      ],
      "metadata": {
        "colab": {
          "base_uri": "https://localhost:8080/"
        },
        "id": "iDiDy-0AalTb",
        "outputId": "50d88ae1-fffc-410c-e356-dfec31f993b9"
      },
      "execution_count": 54,
      "outputs": [
        {
          "output_type": "stream",
          "name": "stderr",
          "text": [
            "Setting `pad_token_id` to `eos_token_id`:128001 for open-end generation.\n"
          ]
        },
        {
          "output_type": "execute_result",
          "data": {
            "text/plain": [
              "['<|begin_of_text|>Below is an instruction that describes a task, paired with an input that provides further context. Write a response that appropriately completes the request.\\n\\n### Instruction:\\nGiven a grocery store product, return the section of the store it would be found in.\\n\\n### Input:\\nEverything Bagel\\n\\n### Response:\\nBread & Bakery Products<|end_of_text|>']"
            ]
          },
          "metadata": {},
          "execution_count": 54
        }
      ]
    }
  ]
}