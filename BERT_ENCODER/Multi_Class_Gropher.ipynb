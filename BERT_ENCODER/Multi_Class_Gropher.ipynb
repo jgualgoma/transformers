{
 "cells": [
  {
   "cell_type": "markdown",
   "id": "b5222fc0-bbd6-4c92-b9a3-03fe61d585eb",
   "metadata": {},
   "source": [
    "# CHECK FOR CUDA COMPATIBILITY\n",
    "\n",
    "    Install dependencies\n",
    "    and check working directory"
   ]
  },
  {
   "cell_type": "code",
   "execution_count": 1,
   "id": "f0e3c8d3-aeb7-4dd0-91a8-3e2fd9dbab3d",
   "metadata": {},
   "outputs": [
    {
     "data": {
      "text/plain": [
       "True"
      ]
     },
     "execution_count": 1,
     "metadata": {},
     "output_type": "execute_result"
    }
   ],
   "source": [
    "import torch\n",
    "torch.cuda.is_available()"
   ]
  },
  {
   "cell_type": "code",
   "execution_count": 2,
   "id": "3f47fbf5-7473-4ef9-af28-5c07e16164da",
   "metadata": {},
   "outputs": [
    {
     "data": {
      "text/plain": [
       "1"
      ]
     },
     "execution_count": 2,
     "metadata": {},
     "output_type": "execute_result"
    }
   ],
   "source": [
    "torch.cuda.device_count()"
   ]
  },
  {
   "cell_type": "code",
   "execution_count": 3,
   "id": "edcf10d5-6bda-4681-84f4-52b0b6c65c03",
   "metadata": {},
   "outputs": [
    {
     "data": {
      "text/plain": [
       "'NVIDIA T1200 Laptop GPU'"
      ]
     },
     "execution_count": 3,
     "metadata": {},
     "output_type": "execute_result"
    }
   ],
   "source": [
    "torch.cuda.get_device_name(0)\n"
   ]
  },
  {
   "cell_type": "code",
   "execution_count": 11,
   "id": "b3978dc7-baf2-49e8-8e95-75ac274590d9",
   "metadata": {},
   "outputs": [],
   "source": [
    "!pip install -q -U transformers\n",
    "!pip install -q -U accelerate"
   ]
  },
  {
   "cell_type": "code",
   "execution_count": 12,
   "id": "15e5fc53-d71c-4a81-b815-178206214dac",
   "metadata": {},
   "outputs": [
    {
     "data": {
      "text/plain": [
       "'/home/jg/Documents/bert_models'"
      ]
     },
     "execution_count": 12,
     "metadata": {},
     "output_type": "execute_result"
    }
   ],
   "source": [
    "import pandas as pd\n",
    "import matplotlib\n",
    "\n",
    "import os\n",
    "os.getcwd()\n",
    "\n"
   ]
  },
  {
   "cell_type": "markdown",
   "id": "10fb457a-11fb-47fd-a925-f99ed722297b",
   "metadata": {},
   "source": [
    "# Load data into dataframe\n",
    "Make sure the path to jsonl data is correct"
   ]
  },
  {
   "cell_type": "code",
   "execution_count": 15,
   "id": "4b47efeb-0075-4498-95f8-5af132f55154",
   "metadata": {},
   "outputs": [
    {
     "data": {
      "text/html": [
       "<div>\n",
       "<style scoped>\n",
       "    .dataframe tbody tr th:only-of-type {\n",
       "        vertical-align: middle;\n",
       "    }\n",
       "\n",
       "    .dataframe tbody tr th {\n",
       "        vertical-align: top;\n",
       "    }\n",
       "\n",
       "    .dataframe thead th {\n",
       "        text-align: right;\n",
       "    }\n",
       "</style>\n",
       "<table border=\"1\" class=\"dataframe\">\n",
       "  <thead>\n",
       "    <tr style=\"text-align: right;\">\n",
       "      <th></th>\n",
       "      <th>name</th>\n",
       "      <th>categories</th>\n",
       "    </tr>\n",
       "  </thead>\n",
       "  <tbody>\n",
       "    <tr>\n",
       "      <th>0</th>\n",
       "      <td>Irresistibles Cheese Fondue With Swiss Cheeses</td>\n",
       "      <td>[Dairy &amp; Eggs, Packaged Cheese, Fondue]</td>\n",
       "    </tr>\n",
       "    <tr>\n",
       "      <th>1</th>\n",
       "      <td>Fromalp Authentic Swiss Fondue Cheese</td>\n",
       "      <td>[Dairy &amp; Eggs, Packaged Cheese, Fondue]</td>\n",
       "    </tr>\n",
       "    <tr>\n",
       "      <th>2</th>\n",
       "      <td>Fromalp Gourmet Swiss Fondue Cheese</td>\n",
       "      <td>[Dairy &amp; Eggs, Packaged Cheese, Fondue]</td>\n",
       "    </tr>\n",
       "    <tr>\n",
       "      <th>3</th>\n",
       "      <td>Monsieur Gustav Lactose-Free Raclette Cheese Trio</td>\n",
       "      <td>[Dairy &amp; Eggs, Packaged Cheese, Fondue]</td>\n",
       "    </tr>\n",
       "    <tr>\n",
       "      <th>4</th>\n",
       "      <td>Philadelphia Whipped Cream Cheese Frosting Spread</td>\n",
       "      <td>[Dairy &amp; Eggs, Packaged Cheese, Cream Cheese &amp;...</td>\n",
       "    </tr>\n",
       "    <tr>\n",
       "      <th>...</th>\n",
       "      <td>...</td>\n",
       "      <td>...</td>\n",
       "    </tr>\n",
       "    <tr>\n",
       "      <th>5955</th>\n",
       "      <td>Schneiders Hickory Smoked Classic Cut Bacon</td>\n",
       "      <td>[Meat &amp; Poultry, Sausages &amp; Bacon, Bacon]</td>\n",
       "    </tr>\n",
       "    <tr>\n",
       "      <th>5956</th>\n",
       "      <td>Selection Fully Cooked Smoked Bacon</td>\n",
       "      <td>[Meat &amp; Poultry, Sausages &amp; Bacon, Bacon]</td>\n",
       "    </tr>\n",
       "    <tr>\n",
       "      <th>5957</th>\n",
       "      <td>Maple Leaf Naturally Smoked Bacon</td>\n",
       "      <td>[Meat &amp; Poultry, Sausages &amp; Bacon, Bacon]</td>\n",
       "    </tr>\n",
       "    <tr>\n",
       "      <th>5958</th>\n",
       "      <td>Olymel Naturally Smoked Bacon</td>\n",
       "      <td>[Meat &amp; Poultry, Sausages &amp; Bacon, Bacon]</td>\n",
       "    </tr>\n",
       "    <tr>\n",
       "      <th>5959</th>\n",
       "      <td>Selection Old-Fashioned Bacon</td>\n",
       "      <td>[Meat &amp; Poultry, Sausages &amp; Bacon, Bacon]</td>\n",
       "    </tr>\n",
       "  </tbody>\n",
       "</table>\n",
       "<p>5960 rows × 2 columns</p>\n",
       "</div>"
      ],
      "text/plain": [
       "                                                   name  \\\n",
       "0        Irresistibles Cheese Fondue With Swiss Cheeses   \n",
       "1                 Fromalp Authentic Swiss Fondue Cheese   \n",
       "2                   Fromalp Gourmet Swiss Fondue Cheese   \n",
       "3     Monsieur Gustav Lactose-Free Raclette Cheese Trio   \n",
       "4     Philadelphia Whipped Cream Cheese Frosting Spread   \n",
       "...                                                 ...   \n",
       "5955        Schneiders Hickory Smoked Classic Cut Bacon   \n",
       "5956                Selection Fully Cooked Smoked Bacon   \n",
       "5957                  Maple Leaf Naturally Smoked Bacon   \n",
       "5958                      Olymel Naturally Smoked Bacon   \n",
       "5959                      Selection Old-Fashioned Bacon   \n",
       "\n",
       "                                             categories  \n",
       "0               [Dairy & Eggs, Packaged Cheese, Fondue]  \n",
       "1               [Dairy & Eggs, Packaged Cheese, Fondue]  \n",
       "2               [Dairy & Eggs, Packaged Cheese, Fondue]  \n",
       "3               [Dairy & Eggs, Packaged Cheese, Fondue]  \n",
       "4     [Dairy & Eggs, Packaged Cheese, Cream Cheese &...  \n",
       "...                                                 ...  \n",
       "5955          [Meat & Poultry, Sausages & Bacon, Bacon]  \n",
       "5956          [Meat & Poultry, Sausages & Bacon, Bacon]  \n",
       "5957          [Meat & Poultry, Sausages & Bacon, Bacon]  \n",
       "5958          [Meat & Poultry, Sausages & Bacon, Bacon]  \n",
       "5959          [Meat & Poultry, Sausages & Bacon, Bacon]  \n",
       "\n",
       "[5960 rows x 2 columns]"
      ]
     },
     "execution_count": 15,
     "metadata": {},
     "output_type": "execute_result"
    }
   ],
   "source": [
    "df= pd.read_json('./multi_label_class_train.jsonl', lines=True)\n",
    "\n",
    "df"
   ]
  },
  {
   "cell_type": "code",
   "execution_count": 16,
   "id": "e4466819-8649-450c-8e37-6d90799236a5",
   "metadata": {},
   "outputs": [
    {
     "data": {
      "text/plain": [
       "<Axes: ylabel='Frequency'>"
      ]
     },
     "execution_count": 16,
     "metadata": {},
     "output_type": "execute_result"
    },
    {
     "data": {
      "image/png": "[encoded data removed]",
      "text/plain": [
       "<Figure size 640x480 with 1 Axes>"
      ]
     },
     "metadata": {},
     "output_type": "display_data"
    }
   ],
   "source": [
    "df['name'].str.len().plot.hist(bins=50)"
   ]
  },
  {
   "cell_type": "code",
   "execution_count": 17,
   "id": "f8992c72-aeb7-4ad3-843b-e286ecf2b3d7",
   "metadata": {},
   "outputs": [
    {
     "data": {
      "text/plain": [
       "Health & Beauty               1465\n",
       "Frozen                        1269\n",
       "Household & Cleaning           940\n",
       "Deli & Prepared Meals          663\n",
       "Fruits & Vegetables            533\n",
       "                              ... \n",
       "Breasts & Magret                 1\n",
       "Marinated Cuts                   1\n",
       "Spreads, Mousse & Caviar         1\n",
       "Single Serving Yogurts           1\n",
       "Children's Bath Essentials       1\n",
       "Name: count, Length: 254, dtype: int64"
      ]
     },
     "execution_count": 17,
     "metadata": {},
     "output_type": "execute_result"
    }
   ],
   "source": [
    "cat_counts= [category for row in df['categories'] for category in row]\n",
    "\n",
    "pd.Series(cat_counts).value_counts()"
   ]
  },
  {
   "cell_type": "markdown",
   "id": "9c127a19-0efd-4f06-ae93-5357fc6c8145",
   "metadata": {},
   "source": [
    "# Load Bert Model and Binarizer\n",
    "\n",
    "Gets pretrained model from Huggingface and Binarizer for classification tasks\n",
    "Also foramts data and turns them into tensors (a tensor is an array of numbers)"
   ]
  },
  {
   "cell_type": "code",
   "execution_count": 41,
   "id": "4f1ca0d1-636d-4974-9f17-9da75c7cec4c",
   "metadata": {},
   "outputs": [
    {
     "data": {
      "text/plain": [
       "254"
      ]
     },
     "execution_count": 41,
     "metadata": {},
     "output_type": "execute_result"
    }
   ],
   "source": [
    "from sklearn.preprocessing import MultiLabelBinarizer\n",
    "\n",
    "multilabel=MultiLabelBinarizer()\n",
    "labels =multilabel.fit_transform(df['categories']).astype('float32')\n",
    "\n",
    "labels.shape[1]"
   ]
  },
  {
   "cell_type": "code",
   "execution_count": 42,
   "id": "58280d51-1edf-47e9-a171-7e501c8fce9b",
   "metadata": {},
   "outputs": [
    {
     "data": {
      "text/plain": [
       "5960"
      ]
     },
     "execution_count": 42,
     "metadata": {},
     "output_type": "execute_result"
    }
   ],
   "source": [
    "texts= df['name'].tolist()\n",
    "len(texts)"
   ]
  },
  {
   "cell_type": "code",
   "execution_count": 43,
   "id": "0b205638-f958-4b75-a2fc-159a49dbeb12",
   "metadata": {},
   "outputs": [],
   "source": [
    "from tqdm import tqdm\n",
    "import torch\n",
    "from transformers import AutoTokenizer, AutoModelForSequenceClassification\n",
    "from sklearn.model_selection import train_test_split\n",
    "from torch.utils.data import Dataset\n",
    "\n",
    "\n",
    "train_text, val_text, train_labels, val_labels = train_test_split(texts, labels, test_size=0.2, random_state=37)"
   ]
  },
  {
   "cell_type": "code",
   "execution_count": 44,
   "id": "a45ca474-97ad-4cb8-af65-a03422724325",
   "metadata": {},
   "outputs": [
    {
     "name": "stderr",
     "output_type": "stream",
     "text": [
      "Some weights of DistilBertForSequenceClassification were not initialized from the model checkpoint at distilbert/distilbert-base-uncased and are newly initialized: ['classifier.bias', 'classifier.weight', 'pre_classifier.bias', 'pre_classifier.weight']\n",
      "You should probably TRAIN this model on a down-stream task to be able to use it for predictions and inference.\n"
     ]
    }
   ],
   "source": [
    "checkpoint= 'distilbert/distilbert-base-uncased'\n",
    "tokenizer= AutoTokenizer.from_pretrained(checkpoint)\n",
    "model= AutoModelForSequenceClassification.from_pretrained(checkpoint, num_labels= labels.shape[1])"
   ]
  },
  {
   "cell_type": "code",
   "execution_count": 45,
   "id": "d7a2517d-caea-4622-bd12-887c7b7ee750",
   "metadata": {},
   "outputs": [],
   "source": [
    "class CustomDataset(Dataset):\n",
    "  def __init__(self, texts, labels, tokenizer, max_len=128):\n",
    "    self.texts = texts\n",
    "    self.labels = labels\n",
    "    self.tokenizer = tokenizer\n",
    "    self.max_len = max_len\n",
    "\n",
    "  def __len__(self):\n",
    "    return len(self.texts)\n",
    "\n",
    "  def __getitem__(self, idx):\n",
    "    text = str(self.texts[idx])\n",
    "    label = torch.tensor(self.labels[idx])\n",
    "\n",
    "    encoding = self.tokenizer(text, truncation=True, padding=\"max_length\", max_length=self.max_len, return_tensors='pt')\n",
    "\n",
    "    return {\n",
    "        'input_ids': encoding['input_ids'].flatten(),\n",
    "        'attention_mask': encoding['attention_mask'].flatten(),\n",
    "        'labels': label\n",
    "    }"
   ]
  },
  {
   "cell_type": "markdown",
   "id": "ac946d04-91fb-42c1-ba0b-7bf96bda153e",
   "metadata": {},
   "source": [
    "# Data Format and Validation\n",
    "\n",
    "Input ids are are the inputs turned into iteger values as a tensor, with 0 being a padding token (empty space) Special tokens include 101 and 102\n",
    "which stand for [start] and [end] respectively\n",
    "\n",
    "A validation function is used to determine if training is going well and loss is dropping consistently"
   ]
  },
  {
   "cell_type": "code",
   "execution_count": 24,
   "id": "9fe40e40-a6b9-43f4-8d74-847173bdefdb",
   "metadata": {},
   "outputs": [
    {
     "data": {
      "text/plain": [
       "{'input_ids': tensor([ 101, 6501, 7349, 2310, 2389, 4190, 8040, 8095, 7361, 5498,  102,    0,\n",
       "            0,    0,    0,    0,    0,    0,    0,    0,    0,    0,    0,    0,\n",
       "            0,    0,    0,    0,    0,    0,    0,    0,    0,    0,    0,    0,\n",
       "            0,    0,    0,    0,    0,    0,    0,    0,    0,    0,    0,    0,\n",
       "            0,    0,    0,    0,    0,    0,    0,    0,    0,    0,    0,    0,\n",
       "            0,    0,    0,    0,    0,    0,    0,    0,    0,    0,    0,    0,\n",
       "            0,    0,    0,    0,    0,    0,    0,    0,    0,    0,    0,    0,\n",
       "            0,    0,    0,    0,    0,    0,    0,    0,    0,    0,    0,    0,\n",
       "            0,    0,    0,    0,    0,    0,    0,    0,    0,    0,    0,    0,\n",
       "            0,    0,    0,    0,    0,    0,    0,    0,    0,    0,    0,    0,\n",
       "            0,    0,    0,    0,    0,    0,    0,    0]),\n",
       " 'attention_mask': tensor([1, 1, 1, 1, 1, 1, 1, 1, 1, 1, 1, 0, 0, 0, 0, 0, 0, 0, 0, 0, 0, 0, 0, 0,\n",
       "         0, 0, 0, 0, 0, 0, 0, 0, 0, 0, 0, 0, 0, 0, 0, 0, 0, 0, 0, 0, 0, 0, 0, 0,\n",
       "         0, 0, 0, 0, 0, 0, 0, 0, 0, 0, 0, 0, 0, 0, 0, 0, 0, 0, 0, 0, 0, 0, 0, 0,\n",
       "         0, 0, 0, 0, 0, 0, 0, 0, 0, 0, 0, 0, 0, 0, 0, 0, 0, 0, 0, 0, 0, 0, 0, 0,\n",
       "         0, 0, 0, 0, 0, 0, 0, 0, 0, 0, 0, 0, 0, 0, 0, 0, 0, 0, 0, 0, 0, 0, 0, 0,\n",
       "         0, 0, 0, 0, 0, 0, 0, 0]),\n",
       " 'labels': tensor([0., 0., 0., 0., 0., 0., 0., 0., 0., 0., 0., 0., 0., 0., 0., 0., 0., 0.,\n",
       "         0., 0., 1., 0., 0., 0., 0., 0., 0., 0., 0., 0., 0., 0., 0., 0., 0., 0.,\n",
       "         0., 0., 0., 0., 0., 0., 0., 0., 0., 0., 0., 0., 0., 0., 0., 0., 0., 0.,\n",
       "         0., 0., 0., 0., 0., 0., 0., 0., 0., 0., 0., 0., 0., 0., 0., 0., 0., 0.,\n",
       "         0., 0., 0., 0., 0., 0., 0., 0., 0., 0., 0., 1., 0., 0., 0., 0., 0., 0.,\n",
       "         0., 0., 0., 0., 0., 0., 0., 0., 0., 0., 0., 0., 0., 0., 0., 0., 0., 0.,\n",
       "         0., 0., 0., 0., 0., 0., 0., 0., 0., 0., 0., 0., 0., 0., 0., 0., 0., 0.,\n",
       "         0., 0., 0., 0., 0., 0., 0., 0., 0., 0., 0., 0., 0., 0., 0., 0., 0., 0.,\n",
       "         0., 0., 0., 0., 0., 1., 0., 0., 0., 0., 0., 0., 0., 0., 0., 0., 0., 0.,\n",
       "         0., 0., 0., 0., 0., 0., 0., 0., 0., 0., 0., 0., 0., 0., 0., 0., 0., 0.,\n",
       "         0., 0., 0., 0., 0., 0., 0., 0., 0., 0., 0., 0., 0., 0., 0., 0., 0., 0.,\n",
       "         0., 0., 0., 0., 0., 0., 0., 0., 0., 0., 0., 0., 0., 0., 0., 0., 0., 0.,\n",
       "         0., 0., 0., 0., 0., 0., 0., 0., 0., 0., 0., 0., 0., 0., 0., 0., 0., 0.,\n",
       "         0., 0., 0., 0., 0., 0., 0., 0., 0., 0., 0., 0., 0., 0., 0., 0., 0., 0.,\n",
       "         0., 0.])}"
      ]
     },
     "execution_count": 24,
     "metadata": {},
     "output_type": "execute_result"
    }
   ],
   "source": [
    "train_dataset= CustomDataset(train_text, train_labels, tokenizer)\n",
    "val_dataset= CustomDataset(val_text, val_labels, tokenizer)\n",
    "\n",
    "train_dataset[90]"
   ]
  },
  {
   "cell_type": "code",
   "execution_count": 30,
   "id": "bbdc5be1-dd50-4cf4-9eb0-992b2f6d9a60",
   "metadata": {},
   "outputs": [],
   "source": [
    "import numpy as np\n",
    "from sklearn.metrics import roc_auc_score, f1_score, hamming_loss\n",
    "from transformers import EvalPrediction\n",
    "import torch\n",
    "\n",
    "def multi_label_metrics (predictions, labels, threshold=0.3):\n",
    "  sigmoid= torch.nn.Sigmoid()\n",
    "  probs= sigmoid(torch.Tensor(predictions))\n",
    "\n",
    "  y_pred= np.zeros(probs.shape)\n",
    "  y_pred[np.where(probs>= threshold)]= 1\n",
    "  y_true= labels\n",
    "\n",
    "  f1= f1_score(y_true, y_pred, average= \"macro\")\n",
    "  # roc_auc= roc_auc_score(y_true, y_pred, average= \"macro\")\n",
    "  hamming= hamming_loss(y_true, y_pred)\n",
    "\n",
    "  metrics= {\n",
    "      #\"roc_auc\": roc_auc,\n",
    "      \"f1\": f1,\n",
    "      \"hamming_loss\": hamming_loss\n",
    "  }\n",
    "\n",
    "  return metrics\n",
    "\n",
    "\n",
    "def compute_metrics(p:EvalPrediction):\n",
    "  preds = p.predictions[0] if isinstance(p.predictions, tuple) else p.predictions\n",
    "\n",
    "  result = multi_label_metrics(predictions=preds,\n",
    "                                labels=p.label_ids)\n",
    "\n",
    "  return result"
   ]
  },
  {
   "cell_type": "markdown",
   "id": "df2d6331-f66a-42d0-ad1f-3464ff8cfbf0",
   "metadata": {},
   "source": [
    "# Training"
   ]
  },
  {
   "cell_type": "code",
   "execution_count": 34,
   "id": "ae510d69-fe17-47ee-81d2-dc9a32902728",
   "metadata": {},
   "outputs": [
    {
     "data": {
      "text/html": [
       "\n",
       "    <div>\n",
       "      \n",
       "      <progress value='2980' max='2980' style='width:300px; height:20px; vertical-align: middle;'></progress>\n",
       "      [2980/2980 08:00, Epoch 5/5]\n",
       "    </div>\n",
       "    <table border=\"1\" class=\"dataframe\">\n",
       "  <thead>\n",
       " <tr style=\"text-align: left;\">\n",
       "      <th>Step</th>\n",
       "      <th>Training Loss</th>\n",
       "    </tr>\n",
       "  </thead>\n",
       "  <tbody>\n",
       "    <tr>\n",
       "      <td>500</td>\n",
       "      <td>0.094600</td>\n",
       "    </tr>\n",
       "    <tr>\n",
       "      <td>1000</td>\n",
       "      <td>0.034800</td>\n",
       "    </tr>\n",
       "    <tr>\n",
       "      <td>1500</td>\n",
       "      <td>0.023900</td>\n",
       "    </tr>\n",
       "    <tr>\n",
       "      <td>2000</td>\n",
       "      <td>0.018600</td>\n",
       "    </tr>\n",
       "    <tr>\n",
       "      <td>2500</td>\n",
       "      <td>0.015500</td>\n",
       "    </tr>\n",
       "  </tbody>\n",
       "</table><p>"
      ],
      "text/plain": [
       "<IPython.core.display.HTML object>"
      ]
     },
     "metadata": {},
     "output_type": "display_data"
    },
    {
     "data": {
      "text/plain": [
       "TrainOutput(global_step=2980, training_loss=0.03368012041053516, metrics={'train_runtime': 480.3833, 'train_samples_per_second': 49.627, 'train_steps_per_second': 6.203, 'total_flos': 793053783736320.0, 'train_loss': 0.03368012041053516, 'epoch': 5.0})"
      ]
     },
     "execution_count": 34,
     "metadata": {},
     "output_type": "execute_result"
    }
   ],
   "source": [
    "from transformers import TrainingArguments, Trainer\n",
    "\n",
    "args = TrainingArguments(\n",
    "    per_device_train_batch_size=8,\n",
    "    per_device_eval_batch_size=8,\n",
    "    output_dir = './results',\n",
    "    num_train_epochs=5,\n",
    "    save_steps=1000,\n",
    "    save_total_limit=2\n",
    ")\n",
    "\n",
    "trainer = Trainer(model=model,\n",
    "                  args=args,\n",
    "                  train_dataset=train_dataset,\n",
    "                  eval_dataset = val_dataset,\n",
    "                  compute_metrics=compute_metrics)\n",
    "\n",
    "\n",
    "trainer.train()"
   ]
  },
  {
   "cell_type": "code",
   "execution_count": 35,
   "id": "f1bac498-49c0-4f69-9974-c626f6950ce1",
   "metadata": {},
   "outputs": [
    {
     "data": {
      "text/html": [
       "\n",
       "    <div>\n",
       "      \n",
       "      <progress value='149' max='149' style='width:300px; height:20px; vertical-align: middle;'></progress>\n",
       "      [149/149 00:07]\n",
       "    </div>\n",
       "    "
      ],
      "text/plain": [
       "<IPython.core.display.HTML object>"
      ]
     },
     "metadata": {},
     "output_type": "display_data"
    },
    {
     "name": "stderr",
     "output_type": "stream",
     "text": [
      "/home/jg/Documents/bert_models/lib/python3.10/site-packages/sklearn/metrics/_classification.py:1509: UndefinedMetricWarning: F-score is ill-defined and being set to 0.0 in labels with no true nor predicted samples. Use `zero_division` parameter to control this behavior.\n",
      "  _warn_prf(average, modifier, f\"{metric.capitalize()} is\", len(result))\n"
     ]
    },
    {
     "data": {
      "text/plain": [
       "{'eval_loss': 0.015658551827073097,\n",
       " 'eval_f1': 0.22966147838305442,\n",
       " 'eval_hamming_loss': <function sklearn.metrics._classification.hamming_loss(y_true, y_pred, *, sample_weight=None)>,\n",
       " 'eval_runtime': 7.6751,\n",
       " 'eval_samples_per_second': 155.308,\n",
       " 'eval_steps_per_second': 19.413,\n",
       " 'epoch': 5.0}"
      ]
     },
     "execution_count": 35,
     "metadata": {},
     "output_type": "execute_result"
    }
   ],
   "source": [
    "trainer.evaluate()"
   ]
  },
  {
   "cell_type": "markdown",
   "id": "e09a9d56-6396-40b9-af39-66355e5f447e",
   "metadata": {},
   "source": [
    "# Saving the model\n",
    "\n",
    "Model files will be saved in the directory marked below, in this case distilbert-multi-label-gropher\n",
    "the multi label binarizer will also have to be saved as a pkl file for converting the numeric values back into string values"
   ]
  },
  {
   "cell_type": "code",
   "execution_count": 36,
   "id": "33e04e84-46d6-4781-a103-ec86a5d80b5b",
   "metadata": {},
   "outputs": [],
   "source": [
    "trainer.save_model(\"distilbert-multi-label-gropher\")"
   ]
  },
  {
   "cell_type": "code",
   "execution_count": 37,
   "id": "f247e273-4dbb-45a2-a584-e533a0b65382",
   "metadata": {},
   "outputs": [
    {
     "data": {
      "text/plain": [
       "('distilbert-multi-label-gropher/tokenizer_config.json',\n",
       " 'distilbert-multi-label-gropher/special_tokens_map.json',\n",
       " 'distilbert-multi-label-gropher/vocab.txt',\n",
       " 'distilbert-multi-label-gropher/added_tokens.json',\n",
       " 'distilbert-multi-label-gropher/tokenizer.json')"
      ]
     },
     "execution_count": 37,
     "metadata": {},
     "output_type": "execute_result"
    }
   ],
   "source": [
    "tokenizer.save_pretrained('distilbert-multi-label-gropher')"
   ]
  },
  {
   "cell_type": "markdown",
   "id": "eecb2345-cabf-4510-8732-561184c90864",
   "metadata": {},
   "source": [
    "# Inference\n",
    "\n",
    "Please also see Multi_Class_load notebook for an example of inferencing"
   ]
  },
  {
   "cell_type": "code",
   "execution_count": 38,
   "id": "eda7bb45-f0a2-47a0-80b0-5eedf5ee4ef4",
   "metadata": {},
   "outputs": [],
   "source": [
    "import pickle\n",
    "with open(\"multi-label-binarizer.pkl\", \"wb\") as f:\n",
    "  pickle.dump(multilabel, f)"
   ]
  },
  {
   "cell_type": "code",
   "execution_count": 39,
   "id": "e5c5bdc2-637d-46d7-a60e-58bebd387ec9",
   "metadata": {},
   "outputs": [
    {
     "data": {
      "text/plain": [
       "SequenceClassifierOutput(loss=None, logits=tensor([[ -7.4573,  -8.9593,  -8.2310,  -4.7732,  -8.5629,  -9.4515,  -6.9495,\n",
       "          -6.5195,  -8.2206,  -8.4605,  -7.2584,  -7.2662,  -6.4384,  -9.0567,\n",
       "          -7.2663,  -8.7086,  -9.1394,  -8.1331,  -7.5014,  -8.4546,  -7.6940,\n",
       "          -9.0242,  -8.4477,  -8.0880,  -8.7421,  -8.6860, -11.3160,  -8.1740,\n",
       "          -7.4666,  -7.5527,  -7.4196,  -8.9741,  -7.9545, -10.3996,  -8.0009,\n",
       "          -8.1727,  -9.0373,  -7.8594,  -8.7662,  -8.7662,  -9.0599,  -8.7169,\n",
       "          -9.2936,  -6.1901,  -7.7008,  -8.5302,  -8.2285,  -8.1487,  -7.4840,\n",
       "          -8.9847,  -9.5005,  -9.6253,  -9.6101,  -9.1085, -10.4842,   3.1233,\n",
       "          -3.9193,  -7.5125,  -8.7587,  -7.0989,  -8.7123,  -8.3331,  -5.6786,\n",
       "          -8.4191,  -9.7701,  -7.3980,  -8.2935,  -7.9152,  -6.7260,  -1.9221,\n",
       "          -7.0341,  -8.8692,  -8.2788,  -7.9133,  -8.4350,  -8.2100,  -9.0163,\n",
       "          -9.8019,  -6.7763,  -8.4753,  -8.2618,  -7.5541,  -8.4747,  -8.5716,\n",
       "          -7.5740,  -7.1445,  -7.5726,  -7.3901,  -6.8788,  -8.1928,  -8.2785,\n",
       "          -5.4983,  -5.1963,  -7.7712,  -8.4784,  -9.1069,  -7.9166,  -6.7640,\n",
       "          -8.1220,  -6.7839,  -7.4032,  -5.2490,  -7.2219,  -6.8837,  -9.1951,\n",
       "          -8.8429,  -8.7739,  -1.0066,  -7.5727,  -9.5406,  -9.4945, -10.1751,\n",
       "          -6.4348,  -7.7479,  -8.8459,  -7.3292,  -6.5921,  -8.5121,  -8.5192,\n",
       "          -8.3943,  -8.2635,  -6.0469,  -7.6315,  -5.6001,  -8.4120,  -5.6489,\n",
       "          -6.5668,  -5.8385,  -7.2685,  -9.1645,  -9.8446,  -8.2111,  -8.5070,\n",
       "          -8.8325,  -7.7041,  -7.7794,  -7.8168,  -7.6746,  -8.6750,  -7.8777,\n",
       "          -8.1955,  -9.3245,  -8.6726,  -7.5626,  -9.4046,  -8.3232,  -9.6110,\n",
       "          -7.3289,  -9.3533,  -6.5611,  -7.1109,  -9.3250,  -8.2499,  -8.9293,\n",
       "          -8.8573,  -2.5960,  -7.7121,  -9.2742,  -7.1052,  -6.7943,  -7.8788,\n",
       "         -10.0176,  -8.0478,  -9.3883,  -8.5589,  -9.2146,  -4.8677,  -5.9967,\n",
       "          -8.4880,  -9.0838,  -7.8824,  -8.5372,  -7.9893,  -8.7755,  -8.0567,\n",
       "          -7.7536,  -8.7122,  -8.5132,  -8.4433,  -8.6675, -10.1136,  -8.2789,\n",
       "          -9.1273,  -6.9307,  -6.7569,  -8.5796,  -7.2216,  -8.5721,  -2.9874,\n",
       "          -7.4582,  -9.3001,  -8.5955,  -9.2410,  -9.0919,  -5.9286,  -6.9689,\n",
       "          -7.3419,  -7.9756,  -6.7595,  -7.5826,  -8.6778,  -8.8626,  -7.5591,\n",
       "          -7.6954,  -9.5647,  -7.3756,  -8.2053,  -6.6899,  -9.5767,  -5.6939,\n",
       "          -9.7161,  -7.7234, -11.6701,  -5.2133, -10.1743,  -9.0316,  -8.3918,\n",
       "          -6.6991,  -6.9513,  -8.4405,  -6.5754,  -5.5646,  -8.7226, -10.3059,\n",
       "          -8.7690,  -7.7867,  -5.0250,  -7.8412,  -8.7092,  -7.2858,  -7.6273,\n",
       "          -8.3423,  -8.9326,  -8.5951,  -8.2768,  -6.6655,  -7.5817, -12.2548,\n",
       "         -10.0559,  -7.7223,  -6.0720,  -6.6095,  -6.4011,  -7.6613,  -8.2095,\n",
       "          -8.0211,  -8.2878,  -8.4374,  -9.0504, -10.2744,  -9.7233, -10.1452,\n",
       "           3.1634,  -1.1603]], grad_fn=<AddmmBackward0>), hidden_states=None, attentions=None)"
      ]
     },
     "execution_count": 39,
     "metadata": {},
     "output_type": "execute_result"
    }
   ],
   "source": [
    "finetuned_model = AutoModelForSequenceClassification.from_pretrained(\"./distilbert-multi-label-gropher\")\n",
    "\n",
    "input= \"Oikos Greek Yogurt\"\n",
    "encoding= tokenizer(input, return_tensors=\"pt\")\n",
    "encoding.to(finetuned_model.device)\n",
    "\n",
    "outputs= finetuned_model(**encoding)\n",
    "outputs"
   ]
  },
  {
   "cell_type": "code",
   "execution_count": 40,
   "id": "538ce9db-de04-4fdd-9bf8-cb3099983e4e",
   "metadata": {},
   "outputs": [
    {
     "data": {
      "text/plain": [
       "[('Dairy & Eggs', 'Yogurt')]"
      ]
     },
     "execution_count": 40,
     "metadata": {},
     "output_type": "execute_result"
    }
   ],
   "source": [
    "sigmoid= torch.nn.Sigmoid()\n",
    "probs= sigmoid(outputs.logits[0].cpu())\n",
    "preds= np.zeros(probs.shape)\n",
    "\n",
    "preds[np.where(probs>=0.3)] = 1\n",
    "\n",
    "file = open(\"multi-label-binarizer.pkl\", 'rb')\n",
    "\n",
    "multilabel_pkl=pickle.load(file)\n",
    "\n",
    "multilabel_pkl.classes_\n",
    "\n",
    "multilabel_pkl.inverse_transform(preds.reshape(1,-1))"
   ]
  },
  {
   "cell_type": "code",
   "execution_count": null,
   "id": "1491395e-c9c3-44e0-91b7-e4460a73fbaf",
   "metadata": {},
   "outputs": [],
   "source": []
  },
  {
   "cell_type": "code",
   "execution_count": null,
   "id": "5f596743-aa40-4376-8a28-30534070b8b9",
   "metadata": {},
   "outputs": [],
   "source": []
  }
 ],
 "metadata": {
  "kernelspec": {
   "display_name": "Python 3 (ipykernel)",
   "language": "python",
   "name": "python3"
  },
  "language_info": {
   "codemirror_mode": {
    "name": "ipython",
    "version": 3
   },
   "file_extension": ".py",
   "mimetype": "text/x-python",
   "name": "python",
   "nbconvert_exporter": "python",
   "pygments_lexer": "ipython3",
   "version": "3.10.12"
  }
 },
 "nbformat": 4,
 "nbformat_minor": 5
}
