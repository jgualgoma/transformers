{
 "cells": [
  {
   "cell_type": "code",
   "execution_count": 3,
   "id": "43b51ae3-bd76-449a-94c7-e0f42c52f36b",
   "metadata": {},
   "outputs": [
    {
     "name": "stderr",
     "output_type": "stream",
     "text": [
      "Asking to truncate to max_length but no maximum length is provided and the model has no predefined maximum length. Default to no truncation.\n"
     ]
    },
    {
     "data": {
      "text/plain": [
       "[{'entity_group': 'PRDT',\n",
       "  'score': 0.4414835,\n",
       "  'word': 'unsalted butter',\n",
       "  'start': 12,\n",
       "  'end': 27}]"
      ]
     },
     "execution_count": 3,
     "metadata": {},
     "output_type": "execute_result"
    }
   ],
   "source": [
    "from transformers import pipeline\n",
    "\n",
    "# label_names= \n",
    "# {   \"O\": \"Outside\",\n",
    "#     \"B-FLVR\" : \"Beginning Flavour Tag\",\n",
    "#     \"I-FLVR\": \"Inside Flavour Tag\",\n",
    "#     \"B-HLTH\": \"Beginning Health Tag\",\n",
    "#     \"I-HLTH\": \"Inside Health Tag\",\n",
    "#     \"B-MLKF\": \"Beginning Fat % Tag\",\n",
    "#     \"I-MLKF\": : \"Inside Fat % Tag\",\n",
    "#     \"B-PRDT\": \"Beginning  Product Tag\",\n",
    "#     \"I-PRDT\": \"Inside Product Tag\",\n",
    "# }\n",
    "\n",
    "\n",
    "\n",
    "checkpoint = \"./distilbert-finetuned-ner/checkpoint-140\"\n",
    "token_classifier = pipeline(\n",
    "    \"token-classification\", model=checkpoint,aggregation_strategy=\"average\"\n",
    ")\n",
    "\n",
    "result =token_classifier(\"Great Value Unsalted Butter, 454 g\")\n",
    "\n",
    "result"
   ]
  },
  {
   "cell_type": "code",
   "execution_count": null,
   "id": "c1633b80-1d48-4ff2-bcaa-dacfa53ac258",
   "metadata": {},
   "outputs": [],
   "source": []
  },
  {
   "cell_type": "code",
   "execution_count": null,
   "id": "d34ddfb0-82af-4311-a265-e72e0f97b7be",
   "metadata": {},
   "outputs": [],
   "source": []
  }
 ],
 "metadata": {
  "kernelspec": {
   "display_name": "Python 3 (ipykernel)",
   "language": "python",
   "name": "python3"
  },
  "language_info": {
   "codemirror_mode": {
    "name": "ipython",
    "version": 3
   },
   "file_extension": ".py",
   "mimetype": "text/x-python",
   "name": "python",
   "nbconvert_exporter": "python",
   "pygments_lexer": "ipython3",
   "version": "3.10.12"
  }
 },
 "nbformat": 4,
 "nbformat_minor": 5
}
