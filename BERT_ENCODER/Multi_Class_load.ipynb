{
 "cells": [
  {
   "cell_type": "code",
   "execution_count": 1,
   "id": "a2ce55b2-6a0e-4ca5-a27d-358e687eaa11",
   "metadata": {},
   "outputs": [
    {
     "data": {
      "text/plain": [
       "SequenceClassifierOutput(loss=None, logits=tensor([[ -6.9529,  -9.0326,  -7.9526,  -5.4300,  -8.4355,  -9.7902,  -7.3078,\n",
       "          -7.0065,  -8.3139,  -8.5341,  -7.4955,  -6.9661,  -6.6119,  -9.2413,\n",
       "          -6.5812,  -8.6968,  -9.0076,  -7.8942,  -6.7341,  -8.4510,  -7.0034,\n",
       "          -9.1950,  -8.6407,  -8.2987,  -8.5878,  -8.6966, -11.4550,  -7.7695,\n",
       "          -7.7508,  -7.8086,  -7.4603,  -9.4402,  -7.9987, -10.6760,  -7.9998,\n",
       "          -8.6750,  -9.2236,  -7.9712,  -8.4726,  -8.9471,  -9.2628,  -9.0745,\n",
       "          -9.1596,  -6.3597,  -7.4279,  -8.6164,  -8.1116,  -8.2094,  -7.4924,\n",
       "          -8.6256,  -9.8044,  -9.4507,  -9.3951,  -9.2243, -10.3630,   3.6796,\n",
       "          -5.0584,  -7.9092,  -8.4784,  -6.6422,  -8.6873,  -8.3688,  -6.0403,\n",
       "          -8.2206,  -9.5537,  -7.1804,  -8.0291,  -7.6694,  -7.1154,  -2.1181,\n",
       "          -7.3442,  -9.0307,  -8.2516,  -7.4788,  -8.1362,  -7.7957,  -8.8757,\n",
       "         -10.0083,  -7.5631,  -8.6491,  -8.6060,  -7.7587,  -8.5785,  -8.4567,\n",
       "          -7.3772,  -7.3560,  -7.9848,  -7.7863,  -7.1146,  -8.2477,  -8.5807,\n",
       "          -5.8868,  -5.9086,  -7.7523,  -9.0605,  -9.3038,  -8.2429,  -7.0691,\n",
       "          -8.3565,  -7.0290,  -7.7217,  -5.5341,  -7.2774,  -6.0356,  -9.1713,\n",
       "          -8.7775,  -8.8048,  -1.2030,  -7.4530,  -9.5358,  -9.5367, -10.4238,\n",
       "          -6.1303,  -7.5983,  -8.5663,  -7.4516,  -7.0445,  -8.5176,  -8.3799,\n",
       "          -8.5457,  -8.3019,  -5.4789,  -7.9782,  -5.0774,  -8.4618,  -6.0404,\n",
       "          -7.0156,  -6.2225,  -7.5394,  -9.5032,  -9.7285,  -8.2198,  -8.4650,\n",
       "          -8.4976,  -7.5789,  -7.6094,  -7.0353,  -7.1013,  -8.8958,  -8.0511,\n",
       "          -7.7832,  -9.4532,  -8.8417,  -7.5550,  -9.5209,  -8.5704,  -9.9204,\n",
       "          -7.8929,  -9.7628,  -6.2071,  -7.4260,  -9.3782,  -8.0572,  -8.7672,\n",
       "          -8.8913,  -2.6058,  -7.9611,  -9.5358,  -7.4466,  -7.2386,  -8.1053,\n",
       "          -9.9429,  -8.2273,  -9.1851,  -8.2677,  -9.3360,  -4.2181,  -6.4984,\n",
       "          -8.8643,  -9.4198,  -7.5166,  -8.2350,  -7.6925,  -9.0626,  -8.2445,\n",
       "          -8.0545,  -8.8270,  -8.7137,  -8.8691,  -8.6889,  -9.9118,  -8.5195,\n",
       "          -9.3599,  -7.3298,  -6.8013,  -8.8248,  -7.4930,  -8.9895,  -2.4748,\n",
       "          -8.0298,  -9.7338,  -8.7949,  -9.3811,  -8.8196,  -6.7190,  -7.0769,\n",
       "          -7.1102,  -8.1722,  -7.4574,  -8.2340,  -8.8059,  -8.7591,  -7.9798,\n",
       "          -7.4120,  -9.8693,  -7.2394,  -8.6515,  -6.5151,  -9.5246,  -5.1485,\n",
       "          -9.8894,  -8.3637, -11.8264,  -4.9002, -10.2503,  -8.7458,  -7.9255,\n",
       "          -7.0190,  -7.2346,  -8.6485,  -6.5447,  -5.5486,  -9.0395, -10.6181,\n",
       "          -8.8501,  -7.4416,  -4.7548,  -7.6873,  -8.3787,  -6.6539,  -7.6567,\n",
       "          -8.8119,  -9.0722,  -8.5854,  -8.4470,  -6.7002,  -7.6881, -12.1790,\n",
       "         -10.0064,  -8.3051,  -6.1176,  -6.7172,  -6.6567,  -7.8725,  -8.4894,\n",
       "          -8.1838,  -8.3701,  -8.6897,  -9.0050, -10.3258,  -9.9444, -10.0040,\n",
       "           3.0630,  -1.4438]], grad_fn=<AddmmBackward0>), hidden_states=None, attentions=None)"
      ]
     },
     "execution_count": 1,
     "metadata": {},
     "output_type": "execute_result"
    }
   ],
   "source": [
    "from transformers import AutoTokenizer, AutoModelForSequenceClassification\n",
    "\n",
    "\n",
    "\n",
    "tokenizer= AutoTokenizer.from_pretrained(\"./distilbert-multi-label-gropher\")\n",
    "finetuned_model = AutoModelForSequenceClassification.from_pretrained(\"./distilbert-multi-label-gropher\")\n",
    "\n",
    "input= \"Oikos greek yogurt 3% MF\"\n",
    "encoding= tokenizer(input, return_tensors=\"pt\")\n",
    "# encoding.to(finetuned_model.device)\n",
    "\n",
    "outputs= finetuned_model(**encoding)\n",
    "outputs"
   ]
  },
  {
   "cell_type": "code",
   "execution_count": 2,
   "id": "46ea22f0-25c9-4d0e-b66b-b10af7bde36f",
   "metadata": {},
   "outputs": [
    {
     "data": {
      "text/plain": [
       "[('Dairy & Eggs', 'Yogurt')]"
      ]
     },
     "execution_count": 2,
     "metadata": {},
     "output_type": "execute_result"
    }
   ],
   "source": [
    "import torch\n",
    "import numpy as np\n",
    "import pickle\n",
    "\n",
    "sigmoid= torch.nn.Sigmoid()\n",
    "probs= sigmoid(outputs.logits[0].cpu())\n",
    "preds= np.zeros(probs.shape)\n",
    "\n",
    "preds[np.where(probs>=0.3)] = 1\n",
    "\n",
    "file = open(\"multi-label-binarizer.pkl\", 'rb')\n",
    "\n",
    "multilabel_pkl=pickle.load(file)\n",
    "\n",
    "multilabel_pkl.classes_\n",
    "\n",
    "multilabel_pkl.inverse_transform(preds.reshape(1,-1))"
   ]
  },
  {
   "cell_type": "code",
   "execution_count": null,
   "id": "62f5f32c-bffb-4077-b00b-557c0247c9de",
   "metadata": {},
   "outputs": [],
   "source": []
  },
  {
   "cell_type": "code",
   "execution_count": null,
   "id": "44370abb-5dc4-4c99-9255-931be7b2d8bf",
   "metadata": {},
   "outputs": [],
   "source": []
  }
 ],
 "metadata": {
  "kernelspec": {
   "display_name": "Python 3 (ipykernel)",
   "language": "python",
   "name": "python3"
  },
  "language_info": {
   "codemirror_mode": {
    "name": "ipython",
    "version": 3
   },
   "file_extension": ".py",
   "mimetype": "text/x-python",
   "name": "python",
   "nbconvert_exporter": "python",
   "pygments_lexer": "ipython3",
   "version": "3.10.12"
  }
 },
 "nbformat": 4,
 "nbformat_minor": 5
}
